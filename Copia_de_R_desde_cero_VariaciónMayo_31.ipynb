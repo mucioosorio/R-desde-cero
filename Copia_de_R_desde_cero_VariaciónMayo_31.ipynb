{
  "nbformat": 4,
  "nbformat_minor": 0,
  "metadata": {
    "colab": {
      "name": "Copia de R desde cero. VariaciónMayo 31.ipynb",
      "provenance": [],
      "include_colab_link": true
    },
    "kernelspec": {
      "name": "ir",
      "display_name": "R"
    },
    "language_info": {
      "name": "R"
    }
  },
  "cells": [
    {
      "cell_type": "markdown",
      "metadata": {
        "id": "view-in-github",
        "colab_type": "text"
      },
      "source": [
        "<a href=\"https://colab.research.google.com/github/mucioosorio/R-desde-cero/blob/main/Copia_de_R_desde_cero_Variaci%C3%B3nMayo_31.ipynb\" target=\"_parent\"><img src=\"https://colab.research.google.com/assets/colab-badge.svg\" alt=\"Open In Colab\"/></a>"
      ]
    },
    {
      "cell_type": "markdown",
      "metadata": {
        "id": "ADe89Sq_Bp8z"
      },
      "source": [
        "# 2. Dispersión, variabilidad o heterogeneidad\n",
        "\n",
        "Estudiar la distribución de los valores de la serie, analizando si estos se encuentran más o menos concentrados, o más o menos dispersos. \n",
        "\n",
        "![tinystats.github.io](https://tinystats.github.io/teacups-giraffes-and-statistics/images/04_variance/giraffe_variance2.jpg)\n",
        "\n",
        "***\n",
        "> ¿Qué tan homogeneas son las exhalaciones del geyser Old Faithful?\n",
        "***\n",
        "Existen diversas medidas de dispersión, entre las más utilizadas podemos destacar las siguientes:\n",
        "\n",
        "## Amplitud.\n",
        "Es la medida de dispersión más fácil de obtener. Se obtiene hallando la diferencia entre la observación mayor y la menor (el valor máximo menos el valor mínimo). La amplitud es una medida muy influenciada por los valores extremos y por lo tanto puede dar una impresión falsa sobre los valores reales de la distribución.\n",
        "\n",
        "\n"
      ]
    },
    {
      "cell_type": "code",
      "metadata": {
        "id": "Lqv38PYR0q7M",
        "colab": {
          "base_uri": "https://localhost:8080/",
          "height": 69
        },
        "outputId": "ce63537e-d9b1-4d25-ef0e-d6b1704c76a1"
      },
      "source": [
        "# La amplitud del tiempo que tardan las exhalaciones y el  tiempo entre exhalaciones\n",
        "max(faithful$eruptions)-min(faithful$eruptions)\n",
        "# la función range proporciona el mínimo y el máximo\n",
        "range(faithful$eruptions)\n",
        "# diferencia\n",
        "diff(range(faithful$eruptions))"
      ],
      "execution_count": null,
      "outputs": [
        {
          "output_type": "display_data",
          "data": {
            "text/html": [
              "3.5"
            ],
            "text/markdown": "3.5",
            "text/latex": "3.5",
            "text/plain": [
              "[1] 3.5"
            ]
          },
          "metadata": {}
        },
        {
          "output_type": "display_data",
          "data": {
            "text/html": [
              "<style>\n",
              ".list-inline {list-style: none; margin:0; padding: 0}\n",
              ".list-inline>li {display: inline-block}\n",
              ".list-inline>li:not(:last-child)::after {content: \"\\00b7\"; padding: 0 .5ex}\n",
              "</style>\n",
              "<ol class=list-inline><li>1.6</li><li>5.1</li></ol>\n"
            ],
            "text/markdown": "1. 1.6\n2. 5.1\n\n\n",
            "text/latex": "\\begin{enumerate*}\n\\item 1.6\n\\item 5.1\n\\end{enumerate*}\n",
            "text/plain": [
              "[1] 1.6 5.1"
            ]
          },
          "metadata": {}
        },
        {
          "output_type": "display_data",
          "data": {
            "text/html": [
              "3.5"
            ],
            "text/markdown": "3.5",
            "text/latex": "3.5",
            "text/plain": [
              "[1] 3.5"
            ]
          },
          "metadata": {}
        }
      ]
    },
    {
      "cell_type": "code",
      "source": [
        "c <- c(1,3,6,9,2)\n",
        "diff(c)"
      ],
      "metadata": {
        "colab": {
          "base_uri": "https://localhost:8080/",
          "height": 34
        },
        "id": "_ev91Ar_ckhR",
        "outputId": "7d4842a1-8c96-43fe-8335-21001f7eeda6"
      },
      "execution_count": null,
      "outputs": [
        {
          "output_type": "display_data",
          "data": {
            "text/html": [
              "<style>\n",
              ".list-inline {list-style: none; margin:0; padding: 0}\n",
              ".list-inline>li {display: inline-block}\n",
              ".list-inline>li:not(:last-child)::after {content: \"\\00b7\"; padding: 0 .5ex}\n",
              "</style>\n",
              "<ol class=list-inline><li>2</li><li>3</li><li>3</li><li>-7</li></ol>\n"
            ],
            "text/markdown": "1. 2\n2. 3\n3. 3\n4. -7\n\n\n",
            "text/latex": "\\begin{enumerate*}\n\\item 2\n\\item 3\n\\item 3\n\\item -7\n\\end{enumerate*}\n",
            "text/plain": [
              "[1]  2  3  3 -7"
            ]
          },
          "metadata": {}
        }
      ]
    },
    {
      "cell_type": "markdown",
      "metadata": {
        "id": "tox79R0A1hOb"
      },
      "source": [
        "Interpretación:"
      ]
    },
    {
      "cell_type": "markdown",
      "metadata": {
        "id": "aJ2FcrAP0XbN"
      },
      "source": [
        "## Varianza.\n",
        "Mide la distancia (cuadrada) existente entre los valores de la serie y la media. Mientras más se aproxima a cero, más concentrados están los valores de la serie alrededor de la media. Por el contrario, mientras mayor sea la varianza, más dispersos están. El símbolo para representar a la varianza muestral es\n",
        "$s^2$ y para la varianza poblacional $\\sigma^2$.\n",
        "\n",
        "$$s^2=\\frac{1}{n-1}{\\sum_{i=1}^{n}\\left(x_i-\\bar{x}\\right)^2}$$\n",
        "\n",
        "$$\\sigma^2=\\frac{1}{N}{\\sum_{i=1}^{N}\\left(x_i-\\mu\\right)^2}$$\n",
        "\n",
        "## Desviación estándar o típica.\n",
        "Se calcula como raíz cuadrada de la varianza.\n",
        "\n",
        "Nótese que ni la varianza ni la desviación estándar pueden ser negativas y son cero sólo cuando todos los datos tienen el mismo valor que no es otro que el valor de la media.\n"
      ]
    },
    {
      "cell_type": "code",
      "metadata": {
        "id": "z1bXP4B9cSbW",
        "colab": {
          "base_uri": "https://localhost:8080/",
          "height": 52
        },
        "outputId": "5de61650-023e-4162-e4c3-dca3cf7b4479"
      },
      "source": [
        "# La varianza de las exhalaciones y el tiempo entre exhalaciones\n",
        "var(faithful$eruptions)\n",
        "mean(faithful$eruptions)"
      ],
      "execution_count": null,
      "outputs": [
        {
          "output_type": "display_data",
          "data": {
            "text/html": [
              "1.30272833284947"
            ],
            "text/markdown": "1.30272833284947",
            "text/latex": "1.30272833284947",
            "text/plain": [
              "[1] 1.302728"
            ]
          },
          "metadata": {}
        },
        {
          "output_type": "display_data",
          "data": {
            "text/html": [
              "3.48778308823529"
            ],
            "text/markdown": "3.48778308823529",
            "text/latex": "3.48778308823529",
            "text/plain": [
              "[1] 3.487783"
            ]
          },
          "metadata": {}
        }
      ]
    },
    {
      "cell_type": "markdown",
      "metadata": {
        "id": "Wf8_a4LNjZWf"
      },
      "source": [
        "Interpretación: Las exhalaciones se alejan de 3.48 min, aprox 1.3 min^2   NO SENTIDO"
      ]
    },
    {
      "cell_type": "code",
      "metadata": {
        "id": "TByb6Mh556eX",
        "colab": {
          "base_uri": "https://localhost:8080/",
          "height": 34
        },
        "outputId": "2f542b8b-f374-4c71-c03c-2032c0d5bbe6"
      },
      "source": [
        "# desviación estándar\n",
        "sd(faithful$eruptions)"
      ],
      "execution_count": null,
      "outputs": [
        {
          "output_type": "display_data",
          "data": {
            "text/html": [
              "1.14137125110521"
            ],
            "text/markdown": "1.14137125110521",
            "text/latex": "1.14137125110521",
            "text/plain": [
              "[1] 1.141371"
            ]
          },
          "metadata": {}
        }
      ]
    },
    {
      "cell_type": "markdown",
      "metadata": {
        "id": "ZykjYQvo6GJa"
      },
      "source": [
        "Interpretación: Las exhalaciones se alejan de 3.48 min, aprox 1.14 min\n"
      ]
    },
    {
      "cell_type": "markdown",
      "metadata": {
        "id": "fr7nj0bucFM9"
      },
      "source": [
        "\n",
        "* Se puede usar a la amplitud para estimar a la desviación estándar ([Range Rule for Standard Deviation](https://scholar.rose-hulman.edu/cgi/viewcontent.cgi?article=1211&context=rhumj)).\n",
        "\n",
        "* [Estimación de la media y de la desviación estándar a partir de la amplitud](https://bmcmedresmethodol.biomedcentral.com/articles/10.1186/1471-2288-14-135)\n",
        "\n",
        "* [Use of the Range Instead of the Standard Deviation](https://www.jstor.org/stable/2281203).\n"
      ]
    },
    {
      "cell_type": "code",
      "metadata": {
        "id": "fl7Dj_QO44_z",
        "colab": {
          "base_uri": "https://localhost:8080/",
          "height": 34
        },
        "outputId": "be73bdf3-c096-403d-c479-0a70e85ae3fc"
      },
      "source": [
        "# Aproximaciones de la desviación estándar\n",
        "# estimación de la desviación estándar\n",
        "max(faithful$eruptions)- min(faithful$eruptions) / 4\n",
        "\n",
        "\n"
      ],
      "execution_count": null,
      "outputs": [
        {
          "output_type": "display_data",
          "data": {
            "text/html": [
              "4.7"
            ],
            "text/markdown": "4.7",
            "text/latex": "4.7",
            "text/plain": [
              "[1] 4.7"
            ]
          },
          "metadata": {}
        }
      ]
    },
    {
      "cell_type": "code",
      "metadata": {
        "id": "xOjoPUt0FVPD"
      },
      "source": [
        "# aproximación de la S a partir de la amplitu en los datos de \n",
        "# glucosa\n",
        "\n",
        "\n"
      ],
      "execution_count": 1,
      "outputs": []
    },
    {
      "cell_type": "markdown",
      "metadata": {
        "id": "nR94np8s3W0j"
      },
      "source": [
        "# La [regla empirica](https://online.stat.psu.edu/stat200/lesson/2/2.2/2.2.7)\n",
        "<center>\n",
        "\n",
        "![](https://upload.wikimedia.org/wikipedia/commons/thumb/2/22/Empirical_rule_histogram.svg/553px-Empirical_rule_histogram.svg.png)\n",
        "\n",
        "</center>"
      ]
    },
    {
      "cell_type": "code",
      "metadata": {
        "id": "HbNDLI4k5ERv",
        "colab": {
          "base_uri": "https://localhost:8080/",
          "height": 141
        },
        "outputId": "7723a38d-f44c-4c8d-c166-2b425494186c"
      },
      "source": [
        "# Regla empirica\n",
        "# El 100% de las exhalaciones estarán entre\n",
        "mean(faithful$eruptions)-3*sd(faithful$eruptions)\n",
        "mean(faithful$eruptions)+3*sd(faithful$eruptions)\n",
        "\n",
        "\n",
        "# pruebas \n",
        "shapiro.test(faithful$eruptions)\n"
      ],
      "execution_count": null,
      "outputs": [
        {
          "output_type": "display_data",
          "data": {
            "text/html": [
              "0.0636693349196689"
            ],
            "text/markdown": "0.0636693349196689",
            "text/latex": "0.0636693349196689",
            "text/plain": [
              "[1] 0.06366933"
            ]
          },
          "metadata": {}
        },
        {
          "output_type": "display_data",
          "data": {
            "text/html": [
              "6.91189684155092"
            ],
            "text/markdown": "6.91189684155092",
            "text/latex": "6.91189684155092",
            "text/plain": [
              "[1] 6.911897"
            ]
          },
          "metadata": {}
        },
        {
          "output_type": "display_data",
          "data": {
            "text/plain": [
              "\n",
              "\tShapiro-Wilk normality test\n",
              "\n",
              "data:  faithful$eruptions\n",
              "W = 0.84592, p-value = 9.036e-16\n"
            ]
          },
          "metadata": {}
        }
      ]
    },
    {
      "cell_type": "markdown",
      "metadata": {
        "id": "qzyEWgQ5Cp7q"
      },
      "source": [
        "Interpretación:"
      ]
    },
    {
      "cell_type": "code",
      "metadata": {
        "id": "vyjJ6ckSC5ZS"
      },
      "source": [
        "# En total hay 272 datos\n",
        "# dim(faithful)\n",
        "\n",
        "#empirico\n",
        "\n",
        "\n",
        "   # si se cumple la regla empirica\n",
        "\n",
        "# sin generar un dataframe\n"
      ],
      "execution_count": null,
      "outputs": []
    },
    {
      "cell_type": "markdown",
      "metadata": {
        "id": "0NmRQSRp0yHc"
      },
      "source": [
        "\n",
        "## Amplitud intercuartil\n",
        "\n",
        "Es una medida resistente de variación,puesto que elimina al 25% de datos más pequeños y al 25% de los datos mas grandes mide la amplitud del 50% de los datos centrales. \n",
        "\n",
        "$$AIC=P_{0.75}-P_{0.25}$$\n",
        "\n",
        "## Desviación absoluta de la mediana\n",
        "\n",
        "Es la mediana de las desviaciónes absolutas de cada valor respecto a la mediana.\n",
        "\n"
      ]
    },
    {
      "cell_type": "code",
      "metadata": {
        "id": "DRbeCnOEGeF2",
        "colab": {
          "base_uri": "https://localhost:8080/",
          "height": 34
        },
        "outputId": "a331f7ff-38a8-40c4-ff3d-bfb9ed0b4750"
      },
      "source": [
        "# amplitud intercuartil\n",
        "quantile(faithful$eruptions,0.75)-quantile(faithful$eruptions,.25)"
      ],
      "execution_count": null,
      "outputs": [
        {
          "output_type": "display_data",
          "data": {
            "text/html": [
              "<strong>75%:</strong> 2.2915"
            ],
            "text/markdown": "**75%:** 2.2915",
            "text/latex": "\\textbf{75\\textbackslash{}\\%:} 2.2915",
            "text/plain": [
              "   75% \n",
              "2.2915 "
            ]
          },
          "metadata": {}
        }
      ]
    },
    {
      "cell_type": "code",
      "metadata": {
        "id": "XpAIixRRx9Uu"
      },
      "source": [
        "# desviación absoluta de la mediana\n",
        "\n",
        "# desv de cada dato de la mediana\n"
      ],
      "execution_count": null,
      "outputs": []
    },
    {
      "cell_type": "code",
      "metadata": {
        "id": "7TJMWbXbB2yz"
      },
      "source": [
        "# comparación de las medidas de variación\n",
        "# x = c(2, 4 ,8 ,9 ,11, 11, 12)\n",
        "\n",
        "\n",
        "\n",
        "#y =c(2, 4, 8, 9, 11, 11, 120) \n",
        "\n"
      ],
      "execution_count": null,
      "outputs": []
    },
    {
      "cell_type": "markdown",
      "metadata": {
        "id": "CGMyAsisJPCl"
      },
      "source": [
        "## Compartir Notebooks a través de GitHub\n",
        "\n",
        "[GitHub](github.com) es una plataforma de desarrollo colaborativo para alojar proyectos utilizando el sistema de control de versiones Git. Se utiliza principalmente para la creación de código fuente de programas de ordenador. \n",
        "\n",
        "En nuestro caso lo usaremos como un repositorio que nos permitirá compartir nuestras Notebooks con código de R y para crear una página web personal.\n"
      ]
    },
    {
      "cell_type": "code",
      "metadata": {
        "id": "LgYN3HcEJOOS"
      },
      "source": [
        ""
      ],
      "execution_count": null,
      "outputs": []
    },
    {
      "cell_type": "code",
      "metadata": {
        "id": "6auzChvJ1wSR"
      },
      "source": [
        ""
      ],
      "execution_count": null,
      "outputs": []
    }
  ]
}